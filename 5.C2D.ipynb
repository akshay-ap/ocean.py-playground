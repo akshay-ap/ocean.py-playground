{
 "cells": [
  {
   "cell_type": "code",
   "execution_count": 1,
   "id": "3167e4b6-f6d6-40c0-ae9f-5a74e55fff10",
   "metadata": {},
   "outputs": [],
   "source": [
    "%reload_ext dotenv\n",
    "%dotenv"
   ]
  },
  {
   "cell_type": "code",
   "execution_count": 2,
   "id": "f6a19517-619e-4291-8261-32fee5bd89be",
   "metadata": {},
   "outputs": [
    {
     "name": "stdout",
     "output_type": "stream",
     "text": [
      "Using python:3.8.8 | packaged by conda-forge | (default, Feb 20 2021, 16:22:27) \n",
      "[GCC 9.3.0]\n",
      "Using ocean_lib: 0.8.5\n"
     ]
    }
   ],
   "source": [
    "import ocean_lib\n",
    "import sys\n",
    "import time\n",
    "\n",
    "print(f\"Using python:{sys.version}\")\n",
    "print(f\"Using ocean_lib: {ocean_lib.__version__}\")"
   ]
  },
  {
   "cell_type": "markdown",
   "id": "81240f0e-8754-4112-be41-21a7ff719dce",
   "metadata": {},
   "source": [
    "# 1. Create ocean instance"
   ]
  },
  {
   "cell_type": "code",
   "execution_count": 3,
   "id": "976cc180-00c5-432c-9d01-1a68665b3608",
   "metadata": {},
   "outputs": [
    {
     "name": "stdout",
     "output_type": "stream",
     "text": [
      "config.network_url = 'https://rpc-mumbai.maticvigil.com'\n",
      "config.block_confirmations = 1\n",
      "config.metadata_cache_uri = 'https://aquarius.dataunion.market'\n",
      "config.provider_url = 'https://provider.dev.dataunion.market/'\n",
      "alice_wallet.address = '0xdF1dEc52e602020E27B0644Ea0F584b6Eb5CE4eA'\n"
     ]
    }
   ],
   "source": [
    "from ocean_lib.config import Config\n",
    "from ocean_lib.ocean.ocean import Ocean\n",
    "config = Config('./config-dataunion-mumbai.ini')\n",
    "ocean = Ocean(config)\n",
    "\n",
    "print(f\"config.network_url = '{config.network_url}'\")\n",
    "print(f\"config.block_confirmations = {config.block_confirmations.value}\")\n",
    "print(f\"config.metadata_cache_uri = '{config.metadata_cache_uri}'\")\n",
    "print(f\"config.provider_url = '{config.provider_url}'\")\n",
    "\n",
    "# Create Alice's wallet\n",
    "import os\n",
    "from ocean_lib.web3_internal.wallet import Wallet\n",
    "alice_wallet = Wallet(\n",
    "    ocean.web3,\n",
    "    os.getenv('TEST_PRIVATE_KEY1'),\n",
    "    config.block_confirmations,\n",
    "    config.transaction_timeout,\n",
    ")\n",
    "print(f\"alice_wallet.address = '{alice_wallet.address}'\")"
   ]
  },
  {
   "cell_type": "markdown",
   "id": "d3070c6d-8aa5-4ed1-aef1-ccddcc5fa54f",
   "metadata": {},
   "source": [
    "# 2. Publish asset"
   ]
  },
  {
   "cell_type": "code",
   "execution_count": 4,
   "id": "0a06d201-e4ce-4f7f-b4d8-666ebc3e13d6",
   "metadata": {},
   "outputs": [
    {
     "name": "stdout",
     "output_type": "stream",
     "text": [
      "DATA_datatoken.address = '0xe471d09778A4110deD0e545218360C63a9659aF1'\n",
      "signing message with nonce 0: 0xe471d09778A4110deD0e545218360C63a9659aF1, account=0xdF1dEc52e602020E27B0644Ea0F584b6Eb5CE4eA\n",
      "DATA did = 'did:op:e471d09778A4110deD0e545218360C63a9659aF1'\n"
     ]
    }
   ],
   "source": [
    "# Publish DATA datatoken, mint tokens\n",
    "from ocean_lib.web3_internal.currency import to_wei\n",
    "\n",
    "DATA_datatoken = ocean.create_data_token('DATA1', 'DATA1', alice_wallet, blob=ocean.config.metadata_cache_uri)\n",
    "DATA_datatoken.mint(alice_wallet.address, to_wei(100), alice_wallet)\n",
    "print(f\"DATA_datatoken.address = '{DATA_datatoken.address}'\")\n",
    "\n",
    "# Specify metadata & service attributes for Branin test dataset.\n",
    "# It's specified using _local_ DDO metadata format; Aquarius will convert it to remote\n",
    "# by removing `url` and adding `encryptedFiles` field.\n",
    "DATA_metadata = {\n",
    "    \"main\": {\n",
    "        \"type\": \"dataset\",\n",
    "        \"files\": [\n",
    "      {\n",
    "        \"url\": \"https://raw.githubusercontent.com/trentmc/branin/main/branin.arff\",\n",
    "        \"index\": 0,\n",
    "        \"contentType\": \"text/text\"\n",
    "      }\n",
    "    ],\n",
    "    \"name\": \"branin\", \"author\": \"Trent\", \"license\": \"CC0\",\n",
    "    \"dateCreated\": \"2019-12-28T10:55:11Z\"\n",
    "    }\n",
    "}\n",
    "DATA_service_attributes = {\n",
    "    \"main\": {\n",
    "        \"name\": \"DATA_dataAssetAccessServiceAgreement\",\n",
    "        \"creator\": alice_wallet.address,\n",
    "        \"timeout\": 3600 * 24,\n",
    "        \"datePublished\": \"2019-12-28T10:55:11Z\",\n",
    "        \"cost\": 1.0, # <don't change, this is obsolete>\n",
    "        }\n",
    "    }\n",
    "\n",
    "# Set up a service provider. We'll use this same provider for ALG\n",
    "from ocean_lib.data_provider.data_service_provider import DataServiceProvider\n",
    "provider_url = DataServiceProvider.get_url(ocean.config)\n",
    "\n",
    "\n",
    "# Calc DATA service compute descriptor\n",
    "from ocean_lib.services.service import Service\n",
    "from ocean_lib.common.agreements.service_types import ServiceTypes\n",
    "DATA_compute_service = Service(\n",
    "    service_endpoint=provider_url,\n",
    "    service_type=ServiceTypes.CLOUD_COMPUTE,\n",
    "    attributes=DATA_service_attributes\n",
    ")\n",
    "\n",
    "DATA_access_service = Service(\n",
    "    service_endpoint=provider_url,\n",
    "    service_type=ServiceTypes.ASSET_ACCESS,\n",
    "    attributes=DATA_service_attributes,\n",
    ")\n",
    "\n",
    "# Publish metadata and service info on-chain\n",
    "DATA_ddo = ocean.assets.create(\n",
    "  metadata=DATA_metadata, # {\"main\" : {\"type\" : \"dataset\", ..}, ..}\n",
    "  publisher_wallet=alice_wallet,\n",
    "  services=[DATA_compute_service, DATA_access_service],\n",
    "  data_token_address=DATA_datatoken.address)\n",
    "print(f\"DATA did = '{DATA_ddo.did}'\")"
   ]
  },
  {
   "cell_type": "markdown",
   "id": "7f62ae4e-c0dd-43d7-9368-0b9b34e814d7",
   "metadata": {},
   "source": [
    "# 3. Publish algorithm"
   ]
  },
  {
   "cell_type": "code",
   "execution_count": 5,
   "id": "5c699407-8729-49d7-aee3-fc8d1d759f4c",
   "metadata": {},
   "outputs": [
    {
     "name": "stdout",
     "output_type": "stream",
     "text": [
      "ALG_datatoken.address = '0x435cbb5426e8748763DC272d12E45aFcCD49879c'\n",
      "signing message with nonce 1: 0x435cbb5426e8748763DC272d12E45aFcCD49879c, account=0xdF1dEc52e602020E27B0644Ea0F584b6Eb5CE4eA\n",
      "ALG did = 'did:op:435cbb5426e8748763DC272d12E45aFcCD49879c'\n"
     ]
    }
   ],
   "source": [
    "# Publish ALG datatoken\n",
    "ALG_datatoken = ocean.create_data_token('ALG1', 'ALG1', alice_wallet, blob=ocean.config.metadata_cache_uri)\n",
    "ALG_datatoken.mint(alice_wallet.address, to_wei(100), alice_wallet)\n",
    "print(f\"ALG_datatoken.address = '{ALG_datatoken.address}'\")\n",
    "\n",
    "# Specify metadata and service attributes, for \"GPR\" algorithm script.\n",
    "# In same location as Branin test dataset. GPR = Gaussian Process Regression.\n",
    "ALG_metadata =  {\n",
    "    \"main\": {\n",
    "        \"type\": \"algorithm\",\n",
    "        \"algorithm\": {\n",
    "            \"language\": \"python\",\n",
    "            \"format\": \"docker-image\",\n",
    "            \"version\": \"0.1\",\n",
    "            \"container\": {\n",
    "              \"entrypoint\": \"python $ALGO\",\n",
    "              \"image\": \"oceanprotocol/algo_dockers\",\n",
    "              \"tag\": \"python-branin\"\n",
    "            }\n",
    "        },\n",
    "        \"files\": [\n",
    "      {\n",
    "        \"url\": \"https://raw.githubusercontent.com/trentmc/branin/main/gpr.py\",\n",
    "        \"index\": 0,\n",
    "        \"contentType\": \"text/text\",\n",
    "      }\n",
    "    ],\n",
    "    \"name\": \"gpr\", \"author\": \"Trent\", \"license\": \"CC0\",\n",
    "    \"dateCreated\": \"2020-01-28T10:55:11Z\"\n",
    "    }\n",
    "}\n",
    "ALG_service_attributes = {\n",
    "        \"main\": {\n",
    "            \"name\": \"ALG_dataAssetAccessServiceAgreement\",\n",
    "            \"creator\": alice_wallet.address,\n",
    "            \"timeout\": 3600 * 24,\n",
    "            \"datePublished\": \"2020-01-28T10:55:11Z\",\n",
    "            \"cost\": 1.0, # <don't change, this is obsolete>\n",
    "        }\n",
    "    }\n",
    "\n",
    "# Calc ALG service access descriptor. We use the same service provider as DATA\n",
    "ALG_access_service = Service(\n",
    "    service_endpoint=provider_url,\n",
    "    service_type=ServiceTypes.CLOUD_COMPUTE,\n",
    "    attributes=ALG_service_attributes\n",
    ")\n",
    "\n",
    "# Publish metadata and service info on-chain\n",
    "ALG_ddo = ocean.assets.create(\n",
    "  metadata=ALG_metadata, # {\"main\" : {\"type\" : \"algorithm\", ..}, ..}\n",
    "  publisher_wallet=alice_wallet,\n",
    "  services=[ALG_access_service],\n",
    "  data_token_address=ALG_datatoken.address)\n",
    "print(f\"ALG did = '{ALG_ddo.did}'\")"
   ]
  },
  {
   "cell_type": "markdown",
   "id": "58a2d315-6b1e-445f-a81e-f719e5039624",
   "metadata": {},
   "source": [
    "# 4. Alice allows the algorithm for C2D for that data asset"
   ]
  },
  {
   "cell_type": "code",
   "execution_count": 6,
   "id": "aecd34ae-2b86-4ee1-8eef-abd848e206d0",
   "metadata": {},
   "outputs": [
    {
     "data": {
      "text/plain": [
       "'0x7c9acfaa2014c775bf1df10ca6319a490f41cfdffd84fc4146c55a8206317bf9'"
      ]
     },
     "execution_count": 6,
     "metadata": {},
     "output_type": "execute_result"
    }
   ],
   "source": [
    "time.sleep(30) # wait until Aquarius caches the asset  \n",
    "from ocean_lib.assets.trusted_algorithms import add_publisher_trusted_algorithm\n",
    "add_publisher_trusted_algorithm(DATA_ddo, ALG_ddo.did, config.metadata_cache_uri)\n",
    "ocean.assets.update(DATA_ddo, publisher_wallet=alice_wallet)"
   ]
  },
  {
   "cell_type": "markdown",
   "id": "c7d45e6e-b368-482b-83a8-d6d14afe048c",
   "metadata": {},
   "source": [
    "# 5. Bob acquires datatokens for data and algorithm"
   ]
  },
  {
   "cell_type": "code",
   "execution_count": 7,
   "id": "1efa4859-4122-4d5f-a4d3-756bd7ac4ab6",
   "metadata": {},
   "outputs": [
    {
     "name": "stdout",
     "output_type": "stream",
     "text": [
      "bob_wallet.address = '0x7F6470a7b08Bf4dfb3Ebd9330C5B3D594B1d5BB9'\n"
     ]
    },
    {
     "data": {
      "text/plain": [
       "'0x212c3b3345f2a249d09398594a926578687875e0008dd2429af920f468ef7ba9'"
      ]
     },
     "execution_count": 7,
     "metadata": {},
     "output_type": "execute_result"
    }
   ],
   "source": [
    "bob_wallet = Wallet(\n",
    "    ocean.web3,\n",
    "    os.getenv('TEST_PRIVATE_KEY2'),\n",
    "    config.block_confirmations,\n",
    "    config.transaction_timeout,\n",
    ")\n",
    "print(f\"bob_wallet.address = '{bob_wallet.address}'\")\n",
    "\n",
    "# Alice shares access for both to Bob, as datatokens. Alternatively, Bob might have bought these in a market.\n",
    "DATA_datatoken.transfer(bob_wallet.address, to_wei(5), from_wallet=alice_wallet)\n",
    "ALG_datatoken.transfer(bob_wallet.address, to_wei(5), from_wallet=alice_wallet)"
   ]
  },
  {
   "cell_type": "markdown",
   "id": "2cef206f-0aaf-4611-b166-fc95350b134b",
   "metadata": {},
   "source": [
    "# 6. Bob starts a compute job"
   ]
  },
  {
   "cell_type": "code",
   "execution_count": 8,
   "id": "86a87c03-2560-47c8-9fcb-22c7ae7ccb22",
   "metadata": {},
   "outputs": [
    {
     "name": "stdout",
     "output_type": "stream",
     "text": [
      "Started compute job with id: 3036245789d14fc1a92b08e846030402\n"
     ]
    }
   ],
   "source": [
    "DATA_did = DATA_ddo.did  # for convenience\n",
    "ALG_did = ALG_ddo.did\n",
    "DATA_DDO = ocean.assets.resolve(DATA_did)  # make sure we operate on the updated and indexed metadata_cache_uri versions\n",
    "ALG_DDO = ocean.assets.resolve(ALG_did)\n",
    "\n",
    "compute_service = DATA_DDO.get_service('compute')\n",
    "algo_service = ALG_DDO.get_service('access')\n",
    "\n",
    "from ocean_lib.web3_internal.constants import ZERO_ADDRESS\n",
    "from ocean_lib.models.compute_input import ComputeInput\n",
    "\n",
    "# order & pay for dataset\n",
    "dataset_order_requirements = ocean.assets.order(\n",
    "    DATA_did, bob_wallet.address, service_type=compute_service.type\n",
    ")\n",
    "DATA_order_tx_id = ocean.assets.pay_for_service(\n",
    "        ocean.web3,\n",
    "        dataset_order_requirements.amount,\n",
    "        dataset_order_requirements.data_token_address,\n",
    "        DATA_did,\n",
    "        compute_service.index,\n",
    "        ZERO_ADDRESS,\n",
    "        bob_wallet,\n",
    "        dataset_order_requirements.computeAddress,\n",
    "    )\n",
    "\n",
    "# order & pay for algo\n",
    "algo_order_requirements = ocean.assets.order(\n",
    "    ALG_did, bob_wallet.address, service_type=algo_service.type\n",
    ")\n",
    "ALG_order_tx_id = ocean.assets.pay_for_service(\n",
    "        ocean.web3,\n",
    "        algo_order_requirements.amount,\n",
    "        algo_order_requirements.data_token_address,\n",
    "        ALG_did,\n",
    "        algo_service.index,\n",
    "        ZERO_ADDRESS,\n",
    "        bob_wallet,\n",
    "        algo_order_requirements.computeAddress,\n",
    ")\n",
    "\n",
    "compute_inputs = [ComputeInput(DATA_did, DATA_order_tx_id, compute_service.index)]\n",
    "job_id = ocean.compute.start(\n",
    "    compute_inputs,\n",
    "    bob_wallet,\n",
    "    algorithm_did=ALG_did,\n",
    "    algorithm_tx_id=ALG_order_tx_id,\n",
    "    algorithm_data_token=ALG_datatoken.address\n",
    ")\n",
    "print(f\"Started compute job with id: {job_id}\")"
   ]
  },
  {
   "cell_type": "markdown",
   "id": "98fced8a-6778-4dd3-8b35-85d301fdabd2",
   "metadata": {},
   "source": [
    "# 7. Get output"
   ]
  },
  {
   "cell_type": "code",
   "execution_count": 9,
   "id": "56c83315-76d1-4217-b2d5-27e24565c43b",
   "metadata": {},
   "outputs": [
    {
     "data": {
      "text/plain": [
       "{'ok': True, 'status': 70, 'statusText': 'Job finished'}"
      ]
     },
     "execution_count": 9,
     "metadata": {},
     "output_type": "execute_result"
    }
   ],
   "source": [
    "ocean.compute.status(DATA_did, job_id, bob_wallet)"
   ]
  },
  {
   "cell_type": "code",
   "execution_count": 10,
   "id": "257cf834-17ee-45be-ab99-f7c013013f40",
   "metadata": {},
   "outputs": [
    {
     "ename": "Exception",
     "evalue": "b'<!DOCTYPE HTML PUBLIC \"-//W3C//DTD HTML 3.2 Final//EN\">\\n<title>404 Not Found</title>\\n<h1>Not Found</h1>\\n<p>The requested URL was not found on the server. If you entered the URL manually please check your spelling and try again.</p>\\n'",
     "output_type": "error",
     "traceback": [
      "\u001b[0;31m---------------------------------------------------------------------------\u001b[0m",
      "\u001b[0;31mException\u001b[0m                                 Traceback (most recent call last)",
      "\u001b[0;32m<ipython-input-10-c402f0df3dde>\u001b[0m in \u001b[0;36m<module>\u001b[0;34m\u001b[0m\n\u001b[0;32m----> 1\u001b[0;31m \u001b[0mresult\u001b[0m \u001b[0;34m=\u001b[0m \u001b[0mocean\u001b[0m\u001b[0;34m.\u001b[0m\u001b[0mcompute\u001b[0m\u001b[0;34m.\u001b[0m\u001b[0mresult_file\u001b[0m\u001b[0;34m(\u001b[0m\u001b[0mDATA_did\u001b[0m\u001b[0;34m,\u001b[0m \u001b[0mjob_id\u001b[0m\u001b[0;34m,\u001b[0m \u001b[0;36m0\u001b[0m\u001b[0;34m,\u001b[0m \u001b[0mbob_wallet\u001b[0m\u001b[0;34m)\u001b[0m  \u001b[0;31m# 0 index, means we retrieve the results from the first dataset index\u001b[0m\u001b[0;34m\u001b[0m\u001b[0;34m\u001b[0m\u001b[0m\n\u001b[0m\u001b[1;32m      2\u001b[0m \u001b[0;34m\u001b[0m\u001b[0m\n\u001b[1;32m      3\u001b[0m \u001b[0;32mimport\u001b[0m \u001b[0mpickle\u001b[0m\u001b[0;34m\u001b[0m\u001b[0;34m\u001b[0m\u001b[0m\n\u001b[1;32m      4\u001b[0m \u001b[0mmodel\u001b[0m \u001b[0;34m=\u001b[0m \u001b[0mpickle\u001b[0m\u001b[0;34m.\u001b[0m\u001b[0mloads\u001b[0m\u001b[0;34m(\u001b[0m\u001b[0mresult\u001b[0m\u001b[0;34m)\u001b[0m  \u001b[0;31m# the gaussian model result\u001b[0m\u001b[0;34m\u001b[0m\u001b[0;34m\u001b[0m\u001b[0m\n",
      "\u001b[0;32m/opt/conda/lib/python3.8/site-packages/enforce_typing/decorator.py\u001b[0m in \u001b[0;36mwrapper\u001b[0;34m(*args, **kwargs)\u001b[0m\n\u001b[1;32m     27\u001b[0m         \u001b[0;32mdef\u001b[0m \u001b[0mwrapper\u001b[0m\u001b[0;34m(\u001b[0m\u001b[0;34m*\u001b[0m\u001b[0margs\u001b[0m\u001b[0;34m,\u001b[0m \u001b[0;34m**\u001b[0m\u001b[0mkwargs\u001b[0m\u001b[0;34m)\u001b[0m\u001b[0;34m:\u001b[0m\u001b[0;34m\u001b[0m\u001b[0;34m\u001b[0m\u001b[0m\n\u001b[1;32m     28\u001b[0m             \u001b[0mcheck_types\u001b[0m\u001b[0;34m(\u001b[0m\u001b[0;34m*\u001b[0m\u001b[0margs\u001b[0m\u001b[0;34m,\u001b[0m \u001b[0;34m**\u001b[0m\u001b[0mkwargs\u001b[0m\u001b[0;34m)\u001b[0m\u001b[0;34m\u001b[0m\u001b[0;34m\u001b[0m\u001b[0m\n\u001b[0;32m---> 29\u001b[0;31m             \u001b[0;32mreturn\u001b[0m \u001b[0mfunc\u001b[0m\u001b[0;34m(\u001b[0m\u001b[0;34m*\u001b[0m\u001b[0margs\u001b[0m\u001b[0;34m,\u001b[0m \u001b[0;34m**\u001b[0m\u001b[0mkwargs\u001b[0m\u001b[0;34m)\u001b[0m\u001b[0;34m\u001b[0m\u001b[0;34m\u001b[0m\u001b[0m\n\u001b[0m\u001b[1;32m     30\u001b[0m \u001b[0;34m\u001b[0m\u001b[0m\n\u001b[1;32m     31\u001b[0m         \u001b[0;32mreturn\u001b[0m \u001b[0mwrapper\u001b[0m\u001b[0;34m\u001b[0m\u001b[0;34m\u001b[0m\u001b[0m\n",
      "\u001b[0;32m/opt/conda/lib/python3.8/site-packages/ocean_lib/ocean/ocean_compute.py\u001b[0m in \u001b[0;36mresult_file\u001b[0;34m(self, did, job_id, index, wallet)\u001b[0m\n\u001b[1;32m    426\u001b[0m         \u001b[0m_\u001b[0m\u001b[0;34m,\u001b[0m \u001b[0mservice_endpoint\u001b[0m \u001b[0;34m=\u001b[0m \u001b[0mself\u001b[0m\u001b[0;34m.\u001b[0m\u001b[0m_get_compute_result_file_endpoint\u001b[0m\u001b[0;34m(\u001b[0m\u001b[0mdid\u001b[0m\u001b[0;34m)\u001b[0m\u001b[0;34m\u001b[0m\u001b[0;34m\u001b[0m\u001b[0m\n\u001b[1;32m    427\u001b[0m         \u001b[0mmsg\u001b[0m \u001b[0;34m=\u001b[0m \u001b[0;34mf\"{wallet.address}{job_id}{str(index)}\"\u001b[0m\u001b[0;34m\u001b[0m\u001b[0;34m\u001b[0m\u001b[0m\n\u001b[0;32m--> 428\u001b[0;31m         result = self._data_provider.compute_job_result_file(\n\u001b[0m\u001b[1;32m    429\u001b[0m             \u001b[0mjob_id\u001b[0m\u001b[0;34m,\u001b[0m\u001b[0;34m\u001b[0m\u001b[0;34m\u001b[0m\u001b[0m\n\u001b[1;32m    430\u001b[0m             \u001b[0mindex\u001b[0m\u001b[0;34m,\u001b[0m\u001b[0;34m\u001b[0m\u001b[0;34m\u001b[0m\u001b[0m\n",
      "\u001b[0;32m/opt/conda/lib/python3.8/site-packages/enforce_typing/decorator.py\u001b[0m in \u001b[0;36mwrapper\u001b[0;34m(*args, **kwargs)\u001b[0m\n\u001b[1;32m     27\u001b[0m         \u001b[0;32mdef\u001b[0m \u001b[0mwrapper\u001b[0m\u001b[0;34m(\u001b[0m\u001b[0;34m*\u001b[0m\u001b[0margs\u001b[0m\u001b[0;34m,\u001b[0m \u001b[0;34m**\u001b[0m\u001b[0mkwargs\u001b[0m\u001b[0;34m)\u001b[0m\u001b[0;34m:\u001b[0m\u001b[0;34m\u001b[0m\u001b[0;34m\u001b[0m\u001b[0m\n\u001b[1;32m     28\u001b[0m             \u001b[0mcheck_types\u001b[0m\u001b[0;34m(\u001b[0m\u001b[0;34m*\u001b[0m\u001b[0margs\u001b[0m\u001b[0;34m,\u001b[0m \u001b[0;34m**\u001b[0m\u001b[0mkwargs\u001b[0m\u001b[0;34m)\u001b[0m\u001b[0;34m\u001b[0m\u001b[0;34m\u001b[0m\u001b[0m\n\u001b[0;32m---> 29\u001b[0;31m             \u001b[0;32mreturn\u001b[0m \u001b[0mfunc\u001b[0m\u001b[0;34m(\u001b[0m\u001b[0;34m*\u001b[0m\u001b[0margs\u001b[0m\u001b[0;34m,\u001b[0m \u001b[0;34m**\u001b[0m\u001b[0mkwargs\u001b[0m\u001b[0;34m)\u001b[0m\u001b[0;34m\u001b[0m\u001b[0;34m\u001b[0m\u001b[0m\n\u001b[0m\u001b[1;32m     30\u001b[0m \u001b[0;34m\u001b[0m\u001b[0m\n\u001b[1;32m     31\u001b[0m         \u001b[0;32mreturn\u001b[0m \u001b[0mwrapper\u001b[0m\u001b[0;34m\u001b[0m\u001b[0;34m\u001b[0m\u001b[0m\n",
      "\u001b[0;32m/opt/conda/lib/python3.8/site-packages/ocean_lib/data_provider/data_service_provider.py\u001b[0m in \u001b[0;36mcompute_job_result_file\u001b[0;34m(job_id, index, service_endpoint, consumer_address, signature)\u001b[0m\n\u001b[1;32m    483\u001b[0m \u001b[0;34m\u001b[0m\u001b[0m\n\u001b[1;32m    484\u001b[0m         \u001b[0;32mif\u001b[0m \u001b[0mresponse\u001b[0m\u001b[0;34m.\u001b[0m\u001b[0mstatus_code\u001b[0m \u001b[0;34m!=\u001b[0m \u001b[0;36m200\u001b[0m\u001b[0;34m:\u001b[0m\u001b[0;34m\u001b[0m\u001b[0;34m\u001b[0m\u001b[0m\n\u001b[0;32m--> 485\u001b[0;31m             \u001b[0;32mraise\u001b[0m \u001b[0mException\u001b[0m\u001b[0;34m(\u001b[0m\u001b[0mresponse\u001b[0m\u001b[0;34m.\u001b[0m\u001b[0mcontent\u001b[0m\u001b[0;34m)\u001b[0m\u001b[0;34m\u001b[0m\u001b[0;34m\u001b[0m\u001b[0m\n\u001b[0m\u001b[1;32m    486\u001b[0m \u001b[0;34m\u001b[0m\u001b[0m\n\u001b[1;32m    487\u001b[0m         \u001b[0;32mreturn\u001b[0m \u001b[0mresponse\u001b[0m\u001b[0;34m.\u001b[0m\u001b[0mcontent\u001b[0m\u001b[0;34m\u001b[0m\u001b[0;34m\u001b[0m\u001b[0m\n",
      "\u001b[0;31mException\u001b[0m: b'<!DOCTYPE HTML PUBLIC \"-//W3C//DTD HTML 3.2 Final//EN\">\\n<title>404 Not Found</title>\\n<h1>Not Found</h1>\\n<p>The requested URL was not found on the server. If you entered the URL manually please check your spelling and try again.</p>\\n'"
     ]
    }
   ],
   "source": [
    "result = ocean.compute.result_file(DATA_did, job_id, 0, bob_wallet)  # 0 index, means we retrieve the results from the first dataset index\n",
    "\n",
    "import pickle\n",
    "model = pickle.loads(result)  # the gaussian model result"
   ]
  },
  {
   "cell_type": "code",
   "execution_count": 12,
   "id": "9688ab6d-9a79-4ca4-a007-071829e57a86",
   "metadata": {},
   "outputs": [
    {
     "ename": "NameError",
     "evalue": "name 'did' is not defined",
     "output_type": "error",
     "traceback": [
      "\u001b[0;31m---------------------------------------------------------------------------\u001b[0m",
      "\u001b[0;31mNameError\u001b[0m                                 Traceback (most recent call last)",
      "\u001b[0;32m<ipython-input-12-2b6dfcc1fa69>\u001b[0m in \u001b[0;36m<module>\u001b[0;34m\u001b[0m\n\u001b[0;32m----> 1\u001b[0;31m \u001b[0m_\u001b[0m\u001b[0;34m,\u001b[0m \u001b[0mservice_endpoint\u001b[0m \u001b[0;34m=\u001b[0m \u001b[0mocean\u001b[0m\u001b[0;34m.\u001b[0m\u001b[0mcompute\u001b[0m\u001b[0;34m.\u001b[0m\u001b[0m_get_compute_result_file_endpoint\u001b[0m\u001b[0;34m(\u001b[0m\u001b[0mdid\u001b[0m\u001b[0;34m)\u001b[0m\u001b[0;34m\u001b[0m\u001b[0;34m\u001b[0m\u001b[0m\n\u001b[0m",
      "\u001b[0;31mNameError\u001b[0m: name 'did' is not defined"
     ]
    }
   ],
   "source": [
    "DATA_did)\n",
    "_, service_endpoint = ocean.compute._get_compute_result_file_endpoint(did)"
   ]
  }
 ],
 "metadata": {
  "kernelspec": {
   "display_name": "Python 3",
   "language": "python",
   "name": "python3"
  },
  "language_info": {
   "codemirror_mode": {
    "name": "ipython",
    "version": 3
   },
   "file_extension": ".py",
   "mimetype": "text/x-python",
   "name": "python",
   "nbconvert_exporter": "python",
   "pygments_lexer": "ipython3",
   "version": "3.8.8"
  }
 },
 "nbformat": 4,
 "nbformat_minor": 5
}

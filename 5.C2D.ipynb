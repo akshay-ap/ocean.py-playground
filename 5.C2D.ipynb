{
 "cells": [
  {
   "cell_type": "code",
   "execution_count": 13,
   "id": "3167e4b6-f6d6-40c0-ae9f-5a74e55fff10",
   "metadata": {},
   "outputs": [],
   "source": [
    "%reload_ext dotenv\n",
    "%dotenv"
   ]
  },
  {
   "cell_type": "code",
   "execution_count": 19,
   "id": "f6a19517-619e-4291-8261-32fee5bd89be",
   "metadata": {},
   "outputs": [
    {
     "name": "stdout",
     "output_type": "stream",
     "text": [
      "Using python:3.8.8 | packaged by conda-forge | (default, Feb 20 2021, 16:22:27) \n",
      "[GCC 9.3.0]\n",
      "Using ocean_lib: 0.8.5\n"
     ]
    }
   ],
   "source": [
    "import ocean_lib\n",
    "import sys\n",
    "print(f\"Using python:{sys.version}\")\n",
    "print(f\"Using ocean_lib: {ocean_lib.__version__}\")"
   ]
  },
  {
   "cell_type": "markdown",
   "id": "81240f0e-8754-4112-be41-21a7ff719dce",
   "metadata": {},
   "source": [
    "# 1. Create ocean instance"
   ]
  },
  {
   "cell_type": "code",
   "execution_count": 6,
   "id": "976cc180-00c5-432c-9d01-1a68665b3608",
   "metadata": {},
   "outputs": [
    {
     "name": "stdout",
     "output_type": "stream",
     "text": [
      "config.network_url = 'https://rpc-mumbai.maticvigil.com'\n",
      "config.block_confirmations = 1\n",
      "config.metadata_cache_uri = 'https://aquarius.dataunion.market'\n",
      "config.provider_url = 'https://provider.dev.dataunion.market/'\n",
      "alice_wallet.address = '0xdF1dEc52e602020E27B0644Ea0F584b6Eb5CE4eA'\n"
     ]
    }
   ],
   "source": [
    "from ocean_lib.config import Config\n",
    "from ocean_lib.ocean.ocean import Ocean\n",
    "config = Config('./config-dataunion-mumbai.ini')\n",
    "ocean = Ocean(config)\n",
    "\n",
    "print(f\"config.network_url = '{config.network_url}'\")\n",
    "print(f\"config.block_confirmations = {config.block_confirmations.value}\")\n",
    "print(f\"config.metadata_cache_uri = '{config.metadata_cache_uri}'\")\n",
    "print(f\"config.provider_url = '{config.provider_url}'\")\n",
    "\n",
    "# Create Alice's wallet\n",
    "import os\n",
    "from ocean_lib.web3_internal.wallet import Wallet\n",
    "alice_wallet = Wallet(\n",
    "    ocean.web3,\n",
    "    os.getenv('TEST_PRIVATE_KEY1'),\n",
    "    config.block_confirmations,\n",
    "    config.transaction_timeout,\n",
    ")\n",
    "print(f\"alice_wallet.address = '{alice_wallet.address}'\")"
   ]
  },
  {
   "cell_type": "markdown",
   "id": "d3070c6d-8aa5-4ed1-aef1-ccddcc5fa54f",
   "metadata": {},
   "source": [
    "# 2. Publish asset"
   ]
  },
  {
   "cell_type": "code",
   "execution_count": 7,
   "id": "0a06d201-e4ce-4f7f-b4d8-666ebc3e13d6",
   "metadata": {},
   "outputs": [
    {
     "name": "stdout",
     "output_type": "stream",
     "text": [
      "DATA_datatoken.address = '0x89eF6B9eb899B6C86dCFBBa0E5A96997506A304b'\n"
     ]
    },
    {
     "name": "stderr",
     "output_type": "stream",
     "text": [
      "INFO:ocean_lib.data_provider.data_service_provider:Asset urls encrypted successfully, encrypted urls str: {\"encryptedDocument\": \"0x041a203809ddb23d6ef31f0fbae39f5e12eae5d54d8ce0ba6e975722cc4c43afa1071233b73d629a0641229f29a6225511585ef91fde2f5aabe15928079cf5d41fad32dc3ecc4d2dda758467deb29b892fddb3c6b3700748ac413d228e62c3257869fd1c5c29a3bcca6940c6f663f385c6a33c6d05c1843c089ace8a0adc306aa838a2228d13b51620707bf4c2b5ad80c847619603b48f01851e2f77ececed0375d1b99dc0e937aba73ce720d745fb8805fc69a6ea7971fbf10dbe68d138b0221cbb0544075a282a7ed7ca3debaf5fd9160d\"}, encryptedEndpoint https://provider.dev.dataunion.market/api/v1/services/encrypt\n"
     ]
    },
    {
     "name": "stdout",
     "output_type": "stream",
     "text": [
      "signing message with nonce 7: 0x89eF6B9eb899B6C86dCFBBa0E5A96997506A304b, account=0xdF1dEc52e602020E27B0644Ea0F584b6Eb5CE4eA\n"
     ]
    },
    {
     "name": "stderr",
     "output_type": "stream",
     "text": [
      "INFO:ocean:Asset/ddo published on-chain successfully.\n"
     ]
    },
    {
     "name": "stdout",
     "output_type": "stream",
     "text": [
      "DATA did = 'did:op:89eF6B9eb899B6C86dCFBBa0E5A96997506A304b'\n"
     ]
    }
   ],
   "source": [
    "# Publish DATA datatoken, mint tokens\n",
    "from ocean_lib.web3_internal.currency import to_wei\n",
    "\n",
    "DATA_datatoken = ocean.create_data_token('DATA1', 'DATA1', alice_wallet, blob=ocean.config.metadata_cache_uri)\n",
    "DATA_datatoken.mint(alice_wallet.address, to_wei(100), alice_wallet)\n",
    "print(f\"DATA_datatoken.address = '{DATA_datatoken.address}'\")\n",
    "\n",
    "# Specify metadata & service attributes for Branin test dataset.\n",
    "# It's specified using _local_ DDO metadata format; Aquarius will convert it to remote\n",
    "# by removing `url` and adding `encryptedFiles` field.\n",
    "DATA_metadata = {\n",
    "    \"main\": {\n",
    "        \"type\": \"dataset\",\n",
    "        \"files\": [\n",
    "      {\n",
    "        \"url\": \"https://raw.githubusercontent.com/trentmc/branin/main/branin.arff\",\n",
    "        \"index\": 0,\n",
    "        \"contentType\": \"text/text\"\n",
    "      }\n",
    "    ],\n",
    "    \"name\": \"branin\", \"author\": \"Trent\", \"license\": \"CC0\",\n",
    "    \"dateCreated\": \"2019-12-28T10:55:11Z\"\n",
    "    }\n",
    "}\n",
    "DATA_service_attributes = {\n",
    "    \"main\": {\n",
    "        \"name\": \"DATA_dataAssetAccessServiceAgreement\",\n",
    "        \"creator\": alice_wallet.address,\n",
    "        \"timeout\": 3600 * 24,\n",
    "        \"datePublished\": \"2019-12-28T10:55:11Z\",\n",
    "        \"cost\": 1.0, # <don't change, this is obsolete>\n",
    "        }\n",
    "    }\n",
    "\n",
    "# Set up a service provider. We'll use this same provider for ALG\n",
    "from ocean_lib.data_provider.data_service_provider import DataServiceProvider\n",
    "provider_url = DataServiceProvider.get_url(ocean.config)\n",
    "\n",
    "\n",
    "# Calc DATA service compute descriptor\n",
    "from ocean_lib.services.service import Service\n",
    "from ocean_lib.common.agreements.service_types import ServiceTypes\n",
    "DATA_compute_service = Service(\n",
    "    service_endpoint=provider_url,\n",
    "    service_type=ServiceTypes.CLOUD_COMPUTE,\n",
    "    attributes=DATA_service_attributes\n",
    ")\n",
    "\n",
    "# Publish metadata and service info on-chain\n",
    "DATA_ddo = ocean.assets.create(\n",
    "  metadata=DATA_metadata, # {\"main\" : {\"type\" : \"dataset\", ..}, ..}\n",
    "  publisher_wallet=alice_wallet,\n",
    "  services=[DATA_compute_service],\n",
    "  data_token_address=DATA_datatoken.address)\n",
    "print(f\"DATA did = '{DATA_ddo.did}'\")"
   ]
  },
  {
   "cell_type": "code",
   "execution_count": 52,
   "id": "61fc8392-c8b0-468c-a82d-37b5c80e7fff",
   "metadata": {},
   "outputs": [
    {
     "name": "stdout",
     "output_type": "stream",
     "text": [
      "DATA_datatoken.address = '0xd3b8e939303D9af0BDb7774579D2fA8d441be2E9'\n",
      "signing message with nonce 4: 0xd3b8e939303D9af0BDb7774579D2fA8d441be2E9, account=0xdF1dEc52e602020E27B0644Ea0F584b6Eb5CE4eA\n",
      "DATA did = 'did:op:d3b8e939303D9af0BDb7774579D2fA8d441be2E9'\n"
     ]
    }
   ],
   "source": [
    "# Publish DATA datatoken, mint tokens\n",
    "from ocean_lib.web3_internal.currency import to_wei\n",
    "\n",
    "DATA_datatoken = ocean.create_data_token('DATA1', 'DATA1', publisher_wallet, blob=ocean.config.metadata_cache_uri)\n",
    "DATA_datatoken.mint(publisher_wallet.address, to_wei(100), publisher_wallet)\n",
    "print(f\"DATA_datatoken.address = '{DATA_datatoken.address}'\")\n",
    "\n",
    "# Specify metadata & service attributes for Branin test dataset.\n",
    "# It's specified using _local_ DDO metadata format; Aquarius will convert it to remote\n",
    "# by removing `url` and adding `encryptedFiles` field.\n",
    "DATA_metadata = {\n",
    "    \"main\": {\n",
    "        \"type\": \"dataset\",\n",
    "        \"files\": [\n",
    "      {\n",
    "        \"url\": \"https://raw.githubusercontent.com/trentmc/branin/main/branin.arff\",\n",
    "        \"index\": 0,\n",
    "        \"contentType\": \"text/text\"\n",
    "      }\n",
    "    ],\n",
    "    \"name\": \"branin\", \"author\": \"Trent\", \"license\": \"CC0\",\n",
    "    \"dateCreated\": \"2019-12-28T10:55:11Z\"\n",
    "    }\n",
    "}\n",
    "DATA_service_attributes = {\n",
    "    \"main\": {\n",
    "        \"name\": \"DATA_dataAssetAccessServiceAgreement\",\n",
    "        \"creator\": publisher_wallet.address,\n",
    "        \"timeout\": 3600 * 24,\n",
    "        \"datePublished\": \"2019-12-28T10:55:11Z\",\n",
    "        \"cost\": 1.0, # <don't change, this is obsolete>\n",
    "        }\n",
    "    }\n",
    "\n",
    "# Set up a service provider. We'll use this same provider for ALG\n",
    "from ocean_lib.data_provider.data_service_provider import DataServiceProvider\n",
    "provider_url = DataServiceProvider.get_url(ocean.config)\n",
    "# returns \"http://localhost:8030\"\n",
    "\n",
    "# Calc DATA service compute descriptor\n",
    "from ocean_lib.services.service import Service\n",
    "from ocean_lib.common.agreements.service_types import ServiceTypes\n",
    "DATA_compute_service = Service(\n",
    "    service_endpoint=provider_url,\n",
    "    service_type=ServiceTypes.CLOUD_COMPUTE,\n",
    "    attributes=DATA_service_attributes\n",
    ")\n",
    "\n",
    "#Publish metadata and service info on-chain\n",
    "DATA_ddo = ocean.assets.create(\n",
    "  metadata=DATA_metadata, # {\"main\" : {\"type\" : \"dataset\", ..}, ..}\n",
    "  publisher_wallet=publisher_wallet,\n",
    "  services=[DATA_compute_service],\n",
    "  data_token_address=DATA_datatoken.address)\n",
    "print(f\"DATA did = '{DATA_ddo.did}'\")"
   ]
  },
  {
   "cell_type": "markdown",
   "id": "7f62ae4e-c0dd-43d7-9368-0b9b34e814d7",
   "metadata": {},
   "source": [
    "# 3. Publish algorithm"
   ]
  },
  {
   "cell_type": "code",
   "execution_count": 8,
   "id": "5c699407-8729-49d7-aee3-fc8d1d759f4c",
   "metadata": {},
   "outputs": [
    {
     "name": "stdout",
     "output_type": "stream",
     "text": [
      "ALG_datatoken.address = '0x8C96958d4efd521f586829B3f8ede01B83E3478C'\n"
     ]
    },
    {
     "name": "stderr",
     "output_type": "stream",
     "text": [
      "INFO:ocean_lib.data_provider.data_service_provider:Asset urls encrypted successfully, encrypted urls str: {\"encryptedDocument\": \"0x04b628784b6e60c5b19bdd511f7576939a035d5c9c761e89b54ba34618af65f9ce7a6eb2924c3a27d1c841a851b64e0c19ce501d3e49f1151c960859e4dcf2448280205effd5b3f17b1145b6401a838978fa62b58f99425b1353ba59f9c30943cdf4eddf21bccafec9a3b4d5382307ba556c960b41d402e1f7c0746c004b7e1213cc441759c44ba5234a3551a370b2ecb2198143a391a7fc99f90ec44b13c7823a967a8c8dd50d782af2e331b9d54ac1d31f2a3121ae8f6022cd1aa3cb95a1b7c67a2400e1644cfdcba86de918\"}, encryptedEndpoint https://provider.dev.dataunion.market/api/v1/services/encrypt\n"
     ]
    },
    {
     "name": "stdout",
     "output_type": "stream",
     "text": [
      "signing message with nonce 8: 0x8C96958d4efd521f586829B3f8ede01B83E3478C, account=0xdF1dEc52e602020E27B0644Ea0F584b6Eb5CE4eA\n"
     ]
    },
    {
     "name": "stderr",
     "output_type": "stream",
     "text": [
      "INFO:ocean:Asset/ddo published on-chain successfully.\n"
     ]
    },
    {
     "name": "stdout",
     "output_type": "stream",
     "text": [
      "ALG did = 'did:op:8C96958d4efd521f586829B3f8ede01B83E3478C'\n"
     ]
    }
   ],
   "source": [
    "# Publish ALG datatoken\n",
    "ALG_datatoken = ocean.create_data_token('ALG1', 'ALG1', alice_wallet, blob=ocean.config.metadata_cache_uri)\n",
    "ALG_datatoken.mint(alice_wallet.address, to_wei(100), alice_wallet)\n",
    "print(f\"ALG_datatoken.address = '{ALG_datatoken.address}'\")\n",
    "\n",
    "# Specify metadata and service attributes, for \"GPR\" algorithm script.\n",
    "# In same location as Branin test dataset. GPR = Gaussian Process Regression.\n",
    "ALG_metadata =  {\n",
    "    \"main\": {\n",
    "        \"type\": \"algorithm\",\n",
    "        \"algorithm\": {\n",
    "            \"language\": \"python\",\n",
    "            \"format\": \"docker-image\",\n",
    "            \"version\": \"0.1\",\n",
    "            \"container\": {\n",
    "              \"entrypoint\": \"python $ALGO\",\n",
    "              \"image\": \"oceanprotocol/algo_dockers\",\n",
    "              \"tag\": \"python-branin\"\n",
    "            }\n",
    "        },\n",
    "        \"files\": [\n",
    "      {\n",
    "        \"url\": \"https://raw.githubusercontent.com/trentmc/branin/main/gpr.py\",\n",
    "        \"index\": 0,\n",
    "        \"contentType\": \"text/text\",\n",
    "      }\n",
    "    ],\n",
    "    \"name\": \"gpr\", \"author\": \"Trent\", \"license\": \"CC0\",\n",
    "    \"dateCreated\": \"2020-01-28T10:55:11Z\"\n",
    "    }\n",
    "}\n",
    "ALG_service_attributes = {\n",
    "        \"main\": {\n",
    "            \"name\": \"ALG_dataAssetAccessServiceAgreement\",\n",
    "            \"creator\": alice_wallet.address,\n",
    "            \"timeout\": 3600 * 24,\n",
    "            \"datePublished\": \"2020-01-28T10:55:11Z\",\n",
    "            \"cost\": 1.0, # <don't change, this is obsolete>\n",
    "        }\n",
    "    }\n",
    "\n",
    "# Calc ALG service access descriptor. We use the same service provider as DATA\n",
    "ALG_access_service = Service(\n",
    "    service_endpoint=provider_url,\n",
    "    service_type=ServiceTypes.CLOUD_COMPUTE,\n",
    "    attributes=ALG_service_attributes\n",
    ")\n",
    "\n",
    "# Publish metadata and service info on-chain\n",
    "ALG_ddo = ocean.assets.create(\n",
    "  metadata=ALG_metadata, # {\"main\" : {\"type\" : \"algorithm\", ..}, ..}\n",
    "  publisher_wallet=alice_wallet,\n",
    "  services=[ALG_access_service],\n",
    "  data_token_address=ALG_datatoken.address)\n",
    "print(f\"ALG did = '{ALG_ddo.did}'\")"
   ]
  },
  {
   "cell_type": "markdown",
   "id": "58a2d315-6b1e-445f-a81e-f719e5039624",
   "metadata": {},
   "source": [
    "# 4. Alice allows the algorithm for C2D for that data asset"
   ]
  },
  {
   "cell_type": "code",
   "execution_count": 12,
   "id": "aecd34ae-2b86-4ee1-8eef-abd848e206d0",
   "metadata": {},
   "outputs": [
    {
     "name": "stderr",
     "output_type": "stream",
     "text": [
      "INFO:ocean:Asset/ddo updated on-chain successfully.\n"
     ]
    },
    {
     "data": {
      "text/plain": [
       "'0xf3eb83a1b37d3ef0eba5efc58a3120f1b79302f923cd94e98fe03fbb1afd795e'"
      ]
     },
     "execution_count": 12,
     "metadata": {},
     "output_type": "execute_result"
    }
   ],
   "source": [
    "from ocean_lib.assets.trusted_algorithms import add_publisher_trusted_algorithm\n",
    "add_publisher_trusted_algorithm(DATA_ddo, ALG_ddo.did, config.metadata_cache_uri)\n",
    "ocean.assets.update(DATA_ddo, publisher_wallet=alice_wallet)"
   ]
  },
  {
   "cell_type": "markdown",
   "id": "c7d45e6e-b368-482b-83a8-d6d14afe048c",
   "metadata": {},
   "source": [
    "# 5. Bob acquires datatokens for data and algorithm"
   ]
  },
  {
   "cell_type": "code",
   "execution_count": 14,
   "id": "1efa4859-4122-4d5f-a4d3-756bd7ac4ab6",
   "metadata": {},
   "outputs": [
    {
     "name": "stdout",
     "output_type": "stream",
     "text": [
      "bob_wallet.address = '0x7F6470a7b08Bf4dfb3Ebd9330C5B3D594B1d5BB9'\n"
     ]
    },
    {
     "data": {
      "text/plain": [
       "'0x2f47dc92060f6df8a314c2cebe008af5625e48d838976c48a97acc6df4bf02b2'"
      ]
     },
     "execution_count": 14,
     "metadata": {},
     "output_type": "execute_result"
    }
   ],
   "source": [
    "bob_wallet = Wallet(\n",
    "    ocean.web3,\n",
    "    os.getenv('TEST_PRIVATE_KEY2'),\n",
    "    config.block_confirmations,\n",
    "    config.transaction_timeout,\n",
    ")\n",
    "print(f\"bob_wallet.address = '{bob_wallet.address}'\")\n",
    "\n",
    "# Alice shares access for both to Bob, as datatokens. Alternatively, Bob might have bought these in a market.\n",
    "DATA_datatoken.transfer(bob_wallet.address, to_wei(5), from_wallet=alice_wallet)\n",
    "ALG_datatoken.transfer(bob_wallet.address, to_wei(5), from_wallet=alice_wallet)"
   ]
  },
  {
   "cell_type": "markdown",
   "id": "2cef206f-0aaf-4611-b166-fc95350b134b",
   "metadata": {},
   "source": [
    "# 6. Bob starts a compute job"
   ]
  },
  {
   "cell_type": "code",
   "execution_count": 15,
   "id": "86a87c03-2560-47c8-9fcb-22c7ae7ccb22",
   "metadata": {},
   "outputs": [
    {
     "ename": "AssetNotConsumable",
     "evalue": "2",
     "output_type": "error",
     "traceback": [
      "\u001b[0;31m---------------------------------------------------------------------------\u001b[0m",
      "\u001b[0;31mAssetNotConsumable\u001b[0m                        Traceback (most recent call last)",
      "\u001b[0;32m<ipython-input-15-4db9bcda7672>\u001b[0m in \u001b[0;36m<module>\u001b[0;34m\u001b[0m\n\u001b[1;32m     11\u001b[0m \u001b[0;34m\u001b[0m\u001b[0m\n\u001b[1;32m     12\u001b[0m \u001b[0;31m# order & pay for dataset\u001b[0m\u001b[0;34m\u001b[0m\u001b[0;34m\u001b[0m\u001b[0;34m\u001b[0m\u001b[0m\n\u001b[0;32m---> 13\u001b[0;31m dataset_order_requirements = ocean.assets.order(\n\u001b[0m\u001b[1;32m     14\u001b[0m     \u001b[0mDATA_did\u001b[0m\u001b[0;34m,\u001b[0m \u001b[0mbob_wallet\u001b[0m\u001b[0;34m.\u001b[0m\u001b[0maddress\u001b[0m\u001b[0;34m,\u001b[0m \u001b[0mservice_type\u001b[0m\u001b[0;34m=\u001b[0m\u001b[0mcompute_service\u001b[0m\u001b[0;34m.\u001b[0m\u001b[0mtype\u001b[0m\u001b[0;34m\u001b[0m\u001b[0;34m\u001b[0m\u001b[0m\n\u001b[1;32m     15\u001b[0m )\n",
      "\u001b[0;32m/opt/conda/lib/python3.8/site-packages/enforce_typing/decorator.py\u001b[0m in \u001b[0;36mwrapper\u001b[0;34m(*args, **kwargs)\u001b[0m\n\u001b[1;32m     27\u001b[0m         \u001b[0;32mdef\u001b[0m \u001b[0mwrapper\u001b[0m\u001b[0;34m(\u001b[0m\u001b[0;34m*\u001b[0m\u001b[0margs\u001b[0m\u001b[0;34m,\u001b[0m \u001b[0;34m**\u001b[0m\u001b[0mkwargs\u001b[0m\u001b[0;34m)\u001b[0m\u001b[0;34m:\u001b[0m\u001b[0;34m\u001b[0m\u001b[0;34m\u001b[0m\u001b[0m\n\u001b[1;32m     28\u001b[0m             \u001b[0mcheck_types\u001b[0m\u001b[0;34m(\u001b[0m\u001b[0;34m*\u001b[0m\u001b[0margs\u001b[0m\u001b[0;34m,\u001b[0m \u001b[0;34m**\u001b[0m\u001b[0mkwargs\u001b[0m\u001b[0;34m)\u001b[0m\u001b[0;34m\u001b[0m\u001b[0;34m\u001b[0m\u001b[0m\n\u001b[0;32m---> 29\u001b[0;31m             \u001b[0;32mreturn\u001b[0m \u001b[0mfunc\u001b[0m\u001b[0;34m(\u001b[0m\u001b[0;34m*\u001b[0m\u001b[0margs\u001b[0m\u001b[0;34m,\u001b[0m \u001b[0;34m**\u001b[0m\u001b[0mkwargs\u001b[0m\u001b[0;34m)\u001b[0m\u001b[0;34m\u001b[0m\u001b[0;34m\u001b[0m\u001b[0m\n\u001b[0m\u001b[1;32m     30\u001b[0m \u001b[0;34m\u001b[0m\u001b[0m\n\u001b[1;32m     31\u001b[0m         \u001b[0;32mreturn\u001b[0m \u001b[0mwrapper\u001b[0m\u001b[0;34m\u001b[0m\u001b[0;34m\u001b[0m\u001b[0m\n",
      "\u001b[0;32m/opt/conda/lib/python3.8/site-packages/ocean_lib/ocean/ocean_assets.py\u001b[0m in \u001b[0;36morder\u001b[0;34m(self, did, consumer_address, service_index, service_type, userdata)\u001b[0m\n\u001b[1;32m    435\u001b[0m         )\n\u001b[1;32m    436\u001b[0m         \u001b[0;32mif\u001b[0m \u001b[0mconsumable_result\u001b[0m \u001b[0;34m!=\u001b[0m \u001b[0mConsumableCodes\u001b[0m\u001b[0;34m.\u001b[0m\u001b[0mOK\u001b[0m\u001b[0;34m:\u001b[0m\u001b[0;34m\u001b[0m\u001b[0;34m\u001b[0m\u001b[0m\n\u001b[0;32m--> 437\u001b[0;31m             \u001b[0;32mraise\u001b[0m \u001b[0mAssetNotConsumable\u001b[0m\u001b[0;34m(\u001b[0m\u001b[0mconsumable_result\u001b[0m\u001b[0;34m)\u001b[0m\u001b[0;34m\u001b[0m\u001b[0;34m\u001b[0m\u001b[0m\n\u001b[0m\u001b[1;32m    438\u001b[0m \u001b[0;34m\u001b[0m\u001b[0m\n\u001b[1;32m    439\u001b[0m         \u001b[0mdt_address\u001b[0m \u001b[0;34m=\u001b[0m \u001b[0masset\u001b[0m\u001b[0;34m.\u001b[0m\u001b[0mdata_token_address\u001b[0m\u001b[0;34m\u001b[0m\u001b[0;34m\u001b[0m\u001b[0m\n",
      "\u001b[0;31mAssetNotConsumable\u001b[0m: 2"
     ]
    }
   ],
   "source": [
    "DATA_did = DATA_ddo.did  # for convenience\n",
    "ALG_did = ALG_ddo.did\n",
    "DATA_DDO = ocean.assets.resolve(DATA_did)  # make sure we operate on the updated and indexed metadata_cache_uri versions\n",
    "ALG_DDO = ocean.assets.resolve(ALG_did)\n",
    "\n",
    "compute_service = DATA_DDO.get_service('compute')\n",
    "algo_service = ALG_DDO.get_service('access')\n",
    "\n",
    "from ocean_lib.web3_internal.constants import ZERO_ADDRESS\n",
    "from ocean_lib.models.compute_input import ComputeInput\n",
    "\n",
    "# order & pay for dataset\n",
    "dataset_order_requirements = ocean.assets.order(\n",
    "    DATA_did, bob_wallet.address, service_type=compute_service.type\n",
    ")\n",
    "DATA_order_tx_id = ocean.assets.pay_for_service(\n",
    "        ocean.web3,\n",
    "        dataset_order_requirements.amount,\n",
    "        dataset_order_requirements.data_token_address,\n",
    "        DATA_did,\n",
    "        compute_service.index,\n",
    "        ZERO_ADDRESS,\n",
    "        bob_wallet,\n",
    "        dataset_order_requirements.computeAddress,\n",
    "    )\n",
    "\n",
    "# order & pay for algo\n",
    "algo_order_requirements = ocean.assets.order(\n",
    "    ALG_did, bob_wallet.address, service_type=algo_service.type\n",
    ")\n",
    "ALG_order_tx_id = ocean.assets.pay_for_service(\n",
    "        ocean.web3,\n",
    "        algo_order_requirements.amount,\n",
    "        algo_order_requirements.data_token_address,\n",
    "        ALG_did,\n",
    "        algo_service.index,\n",
    "        ZERO_ADDRESS,\n",
    "        bob_wallet,\n",
    "        algo_order_requirements.computeAddress,\n",
    ")\n",
    "\n",
    "compute_inputs = [ComputeInput(DATA_did, DATA_order_tx_id, compute_service.index)]\n",
    "job_id = ocean.compute.start(\n",
    "    compute_inputs,\n",
    "    bob_wallet,\n",
    "    algorithm_did=ALG_did,\n",
    "    algorithm_tx_id=ALG_order_tx_id,\n",
    "    algorithm_data_token=ALG_datatoken.address\n",
    ")\n",
    "print(f\"Started compute job with id: {job_id}\")"
   ]
  }
 ],
 "metadata": {
  "kernelspec": {
   "display_name": "Python 3",
   "language": "python",
   "name": "python3"
  },
  "language_info": {
   "codemirror_mode": {
    "name": "ipython",
    "version": 3
   },
   "file_extension": ".py",
   "mimetype": "text/x-python",
   "name": "python",
   "nbconvert_exporter": "python",
   "pygments_lexer": "ipython3",
   "version": "3.8.8"
  }
 },
 "nbformat": 4,
 "nbformat_minor": 5
}
